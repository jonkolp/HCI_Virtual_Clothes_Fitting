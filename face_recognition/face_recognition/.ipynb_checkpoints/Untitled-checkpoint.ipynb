{
 "cells": [
  {
   "cell_type": "code",
   "execution_count": 4,
   "id": "8ab5f0a2-4bd6-432a-bbcf-6c76c844270f",
   "metadata": {},
   "outputs": [
    {
     "name": "stdout",
     "output_type": "stream",
     "text": [
      "Collecting deepface\n",
      "  Using cached deepface-0.0.93-py3-none-any.whl.metadata (30 kB)\n",
      "Requirement already satisfied: requests>=2.27.1 in /home/youssuf/anaconda3/envs/tensorflow_env/lib/python3.8/site-packages (from deepface) (2.32.3)\n",
      "Requirement already satisfied: numpy>=1.14.0 in /home/youssuf/anaconda3/envs/tensorflow_env/lib/python3.8/site-packages (from deepface) (1.24.3)\n",
      "Requirement already satisfied: pandas>=0.23.4 in /home/youssuf/anaconda3/envs/tensorflow_env/lib/python3.8/site-packages (from deepface) (2.0.3)\n",
      "Collecting gdown>=3.10.1 (from deepface)\n",
      "  Using cached gdown-5.2.0-py3-none-any.whl.metadata (5.8 kB)\n",
      "Requirement already satisfied: tqdm>=4.30.0 in /home/youssuf/anaconda3/envs/tensorflow_env/lib/python3.8/site-packages (from deepface) (4.66.5)\n",
      "Requirement already satisfied: Pillow>=5.2.0 in /home/youssuf/anaconda3/envs/tensorflow_env/lib/python3.8/site-packages (from deepface) (10.4.0)\n",
      "Collecting opencv-python>=4.5.5.64 (from deepface)\n",
      "  Using cached opencv_python-4.10.0.84-cp37-abi3-manylinux_2_17_x86_64.manylinux2014_x86_64.whl.metadata (20 kB)\n",
      "Requirement already satisfied: tensorflow>=1.9.0 in /home/youssuf/anaconda3/envs/tensorflow_env/lib/python3.8/site-packages (from deepface) (2.13.1)\n",
      "Requirement already satisfied: keras>=2.2.0 in /home/youssuf/anaconda3/envs/tensorflow_env/lib/python3.8/site-packages (from deepface) (2.13.1)\n",
      "Collecting Flask>=1.1.2 (from deepface)\n",
      "  Downloading flask-3.0.3-py3-none-any.whl.metadata (3.2 kB)\n",
      "Collecting flask-cors>=4.0.1 (from deepface)\n",
      "  Using cached Flask_Cors-5.0.0-py2.py3-none-any.whl.metadata (5.5 kB)\n",
      "Collecting mtcnn>=0.1.0 (from deepface)\n",
      "  Downloading mtcnn-0.1.1-py3-none-any.whl.metadata (5.8 kB)\n",
      "Collecting retina-face>=0.0.1 (from deepface)\n",
      "  Using cached retina_face-0.0.17-py3-none-any.whl.metadata (10 kB)\n",
      "Collecting fire>=0.4.0 (from deepface)\n",
      "  Using cached fire-0.7.0.tar.gz (87 kB)\n",
      "  Preparing metadata (setup.py) ... \u001b[?25ldone\n",
      "\u001b[?25hCollecting gunicorn>=20.1.0 (from deepface)\n",
      "  Using cached gunicorn-23.0.0-py3-none-any.whl.metadata (4.4 kB)\n",
      "Requirement already satisfied: termcolor in /home/youssuf/anaconda3/envs/tensorflow_env/lib/python3.8/site-packages (from fire>=0.4.0->deepface) (2.1.0)\n",
      "Requirement already satisfied: Werkzeug>=3.0.0 in /home/youssuf/anaconda3/envs/tensorflow_env/lib/python3.8/site-packages (from Flask>=1.1.2->deepface) (3.0.3)\n",
      "Requirement already satisfied: Jinja2>=3.1.2 in /home/youssuf/anaconda3/envs/tensorflow_env/lib/python3.8/site-packages (from Flask>=1.1.2->deepface) (3.1.4)\n",
      "Collecting itsdangerous>=2.1.2 (from Flask>=1.1.2->deepface)\n",
      "  Downloading itsdangerous-2.2.0-py3-none-any.whl.metadata (1.9 kB)\n",
      "Requirement already satisfied: click>=8.1.3 in /home/youssuf/anaconda3/envs/tensorflow_env/lib/python3.8/site-packages (from Flask>=1.1.2->deepface) (8.1.7)\n",
      "Requirement already satisfied: blinker>=1.6.2 in /home/youssuf/anaconda3/envs/tensorflow_env/lib/python3.8/site-packages (from Flask>=1.1.2->deepface) (1.6.2)\n",
      "Requirement already satisfied: importlib-metadata>=3.6.0 in /home/youssuf/anaconda3/envs/tensorflow_env/lib/python3.8/site-packages (from Flask>=1.1.2->deepface) (7.0.1)\n",
      "Requirement already satisfied: beautifulsoup4 in /home/youssuf/anaconda3/envs/tensorflow_env/lib/python3.8/site-packages (from gdown>=3.10.1->deepface) (4.12.3)\n",
      "Collecting filelock (from gdown>=3.10.1->deepface)\n",
      "  Downloading filelock-3.16.1-py3-none-any.whl.metadata (2.9 kB)\n",
      "Requirement already satisfied: packaging in /home/youssuf/anaconda3/envs/tensorflow_env/lib/python3.8/site-packages (from gunicorn>=20.1.0->deepface) (24.1)\n",
      "Requirement already satisfied: python-dateutil>=2.8.2 in /home/youssuf/anaconda3/envs/tensorflow_env/lib/python3.8/site-packages (from pandas>=0.23.4->deepface) (2.9.0.post0)\n",
      "Requirement already satisfied: pytz>=2020.1 in /home/youssuf/anaconda3/envs/tensorflow_env/lib/python3.8/site-packages (from pandas>=0.23.4->deepface) (2024.1)\n",
      "Requirement already satisfied: tzdata>=2022.1 in /home/youssuf/anaconda3/envs/tensorflow_env/lib/python3.8/site-packages (from pandas>=0.23.4->deepface) (2023.3)\n",
      "Requirement already satisfied: charset-normalizer<4,>=2 in /home/youssuf/anaconda3/envs/tensorflow_env/lib/python3.8/site-packages (from requests>=2.27.1->deepface) (3.3.2)\n",
      "Requirement already satisfied: idna<4,>=2.5 in /home/youssuf/anaconda3/envs/tensorflow_env/lib/python3.8/site-packages (from requests>=2.27.1->deepface) (3.7)\n",
      "Requirement already satisfied: urllib3<3,>=1.21.1 in /home/youssuf/anaconda3/envs/tensorflow_env/lib/python3.8/site-packages (from requests>=2.27.1->deepface) (2.2.2)\n",
      "Requirement already satisfied: certifi>=2017.4.17 in /home/youssuf/anaconda3/envs/tensorflow_env/lib/python3.8/site-packages (from requests>=2.27.1->deepface) (2024.8.30)\n",
      "Requirement already satisfied: absl-py>=1.0.0 in /home/youssuf/anaconda3/envs/tensorflow_env/lib/python3.8/site-packages (from tensorflow>=1.9.0->deepface) (2.1.0)\n",
      "Requirement already satisfied: astunparse>=1.6.0 in /home/youssuf/anaconda3/envs/tensorflow_env/lib/python3.8/site-packages (from tensorflow>=1.9.0->deepface) (1.6.3)\n",
      "Requirement already satisfied: flatbuffers>=23.1.21 in /home/youssuf/anaconda3/envs/tensorflow_env/lib/python3.8/site-packages (from tensorflow>=1.9.0->deepface) (24.3.25)\n",
      "Requirement already satisfied: gast<=0.4.0,>=0.2.1 in /home/youssuf/anaconda3/envs/tensorflow_env/lib/python3.8/site-packages (from tensorflow>=1.9.0->deepface) (0.3.3)\n",
      "Requirement already satisfied: google-pasta>=0.1.1 in /home/youssuf/anaconda3/envs/tensorflow_env/lib/python3.8/site-packages (from tensorflow>=1.9.0->deepface) (0.2.0)\n",
      "Requirement already satisfied: grpcio<2.0,>=1.24.3 in /home/youssuf/anaconda3/envs/tensorflow_env/lib/python3.8/site-packages (from tensorflow>=1.9.0->deepface) (1.68.0)\n",
      "Requirement already satisfied: h5py>=2.9.0 in /home/youssuf/anaconda3/envs/tensorflow_env/lib/python3.8/site-packages (from tensorflow>=1.9.0->deepface) (3.11.0)\n",
      "Requirement already satisfied: libclang>=13.0.0 in /home/youssuf/anaconda3/envs/tensorflow_env/lib/python3.8/site-packages (from tensorflow>=1.9.0->deepface) (18.1.1)\n",
      "Requirement already satisfied: opt-einsum>=2.3.2 in /home/youssuf/anaconda3/envs/tensorflow_env/lib/python3.8/site-packages (from tensorflow>=1.9.0->deepface) (3.3.0)\n",
      "Requirement already satisfied: protobuf!=4.21.0,!=4.21.1,!=4.21.2,!=4.21.3,!=4.21.4,!=4.21.5,<5.0.0dev,>=3.20.3 in /home/youssuf/anaconda3/envs/tensorflow_env/lib/python3.8/site-packages (from tensorflow>=1.9.0->deepface) (3.20.3)\n",
      "Requirement already satisfied: setuptools in /home/youssuf/anaconda3/envs/tensorflow_env/lib/python3.8/site-packages (from tensorflow>=1.9.0->deepface) (72.1.0)\n",
      "Requirement already satisfied: six>=1.12.0 in /home/youssuf/anaconda3/envs/tensorflow_env/lib/python3.8/site-packages (from tensorflow>=1.9.0->deepface) (1.16.0)\n",
      "Requirement already satisfied: tensorboard<2.14,>=2.13 in /home/youssuf/anaconda3/envs/tensorflow_env/lib/python3.8/site-packages (from tensorflow>=1.9.0->deepface) (2.13.0)\n",
      "Requirement already satisfied: tensorflow-estimator<2.14,>=2.13.0 in /home/youssuf/anaconda3/envs/tensorflow_env/lib/python3.8/site-packages (from tensorflow>=1.9.0->deepface) (2.13.0)\n",
      "Requirement already satisfied: typing-extensions<4.6.0,>=3.6.6 in /home/youssuf/anaconda3/envs/tensorflow_env/lib/python3.8/site-packages (from tensorflow>=1.9.0->deepface) (4.5.0)\n",
      "Requirement already satisfied: wrapt>=1.11.0 in /home/youssuf/anaconda3/envs/tensorflow_env/lib/python3.8/site-packages (from tensorflow>=1.9.0->deepface) (1.14.1)\n",
      "Requirement already satisfied: tensorflow-io-gcs-filesystem>=0.23.1 in /home/youssuf/anaconda3/envs/tensorflow_env/lib/python3.8/site-packages (from tensorflow>=1.9.0->deepface) (0.34.0)\n",
      "Requirement already satisfied: wheel<1.0,>=0.23.0 in /home/youssuf/anaconda3/envs/tensorflow_env/lib/python3.8/site-packages (from astunparse>=1.6.0->tensorflow>=1.9.0->deepface) (0.44.0)\n",
      "Requirement already satisfied: zipp>=0.5 in /home/youssuf/anaconda3/envs/tensorflow_env/lib/python3.8/site-packages (from importlib-metadata>=3.6.0->Flask>=1.1.2->deepface) (3.17.0)\n",
      "Requirement already satisfied: MarkupSafe>=2.0 in /home/youssuf/anaconda3/envs/tensorflow_env/lib/python3.8/site-packages (from Jinja2>=3.1.2->Flask>=1.1.2->deepface) (2.1.3)\n",
      "Requirement already satisfied: google-auth<3,>=1.6.3 in /home/youssuf/anaconda3/envs/tensorflow_env/lib/python3.8/site-packages (from tensorboard<2.14,>=2.13->tensorflow>=1.9.0->deepface) (2.29.0)\n",
      "Requirement already satisfied: google-auth-oauthlib<1.1,>=0.5 in /home/youssuf/anaconda3/envs/tensorflow_env/lib/python3.8/site-packages (from tensorboard<2.14,>=2.13->tensorflow>=1.9.0->deepface) (0.5.2)\n",
      "Requirement already satisfied: markdown>=2.6.8 in /home/youssuf/anaconda3/envs/tensorflow_env/lib/python3.8/site-packages (from tensorboard<2.14,>=2.13->tensorflow>=1.9.0->deepface) (3.4.1)\n",
      "Requirement already satisfied: tensorboard-data-server<0.8.0,>=0.7.0 in /home/youssuf/anaconda3/envs/tensorflow_env/lib/python3.8/site-packages (from tensorboard<2.14,>=2.13->tensorflow>=1.9.0->deepface) (0.7.0)\n",
      "Requirement already satisfied: soupsieve>1.2 in /home/youssuf/anaconda3/envs/tensorflow_env/lib/python3.8/site-packages (from beautifulsoup4->gdown>=3.10.1->deepface) (2.5)\n",
      "Requirement already satisfied: PySocks!=1.5.7,>=1.5.6 in /home/youssuf/anaconda3/envs/tensorflow_env/lib/python3.8/site-packages (from requests[socks]->gdown>=3.10.1->deepface) (1.7.1)\n",
      "Requirement already satisfied: cachetools<6.0,>=2.0.0 in /home/youssuf/anaconda3/envs/tensorflow_env/lib/python3.8/site-packages (from google-auth<3,>=1.6.3->tensorboard<2.14,>=2.13->tensorflow>=1.9.0->deepface) (5.3.3)\n",
      "Requirement already satisfied: pyasn1-modules>=0.2.1 in /home/youssuf/anaconda3/envs/tensorflow_env/lib/python3.8/site-packages (from google-auth<3,>=1.6.3->tensorboard<2.14,>=2.13->tensorflow>=1.9.0->deepface) (0.2.8)\n",
      "Requirement already satisfied: rsa<5,>=3.1.4 in /home/youssuf/anaconda3/envs/tensorflow_env/lib/python3.8/site-packages (from google-auth<3,>=1.6.3->tensorboard<2.14,>=2.13->tensorflow>=1.9.0->deepface) (4.7.2)\n",
      "Requirement already satisfied: requests-oauthlib>=0.7.0 in /home/youssuf/anaconda3/envs/tensorflow_env/lib/python3.8/site-packages (from google-auth-oauthlib<1.1,>=0.5->tensorboard<2.14,>=2.13->tensorflow>=1.9.0->deepface) (2.0.0)\n",
      "Requirement already satisfied: pyasn1<0.5.0,>=0.4.6 in /home/youssuf/anaconda3/envs/tensorflow_env/lib/python3.8/site-packages (from pyasn1-modules>=0.2.1->google-auth<3,>=1.6.3->tensorboard<2.14,>=2.13->tensorflow>=1.9.0->deepface) (0.4.8)\n",
      "Requirement already satisfied: oauthlib>=3.0.0 in /home/youssuf/anaconda3/envs/tensorflow_env/lib/python3.8/site-packages (from requests-oauthlib>=0.7.0->google-auth-oauthlib<1.1,>=0.5->tensorboard<2.14,>=2.13->tensorflow>=1.9.0->deepface) (3.2.2)\n",
      "Using cached deepface-0.0.93-py3-none-any.whl (108 kB)\n",
      "Downloading flask-3.0.3-py3-none-any.whl (101 kB)\n",
      "Using cached Flask_Cors-5.0.0-py2.py3-none-any.whl (14 kB)\n",
      "Using cached gdown-5.2.0-py3-none-any.whl (18 kB)\n",
      "Using cached gunicorn-23.0.0-py3-none-any.whl (85 kB)\n",
      "Downloading mtcnn-0.1.1-py3-none-any.whl (2.3 MB)\n",
      "\u001b[2K   \u001b[38;2;114;156;31m━━━━━━━━━━━━━━━━━━━━━━━━━━━━━━━━━━━━━━━━\u001b[0m \u001b[32m2.3/2.3 MB\u001b[0m \u001b[31m606.6 kB/s\u001b[0m eta \u001b[36m0:00:00\u001b[0m kB/s\u001b[0m eta \u001b[36m0:00:01\u001b[0m:02\u001b[0m\n",
      "\u001b[?25hUsing cached opencv_python-4.10.0.84-cp37-abi3-manylinux_2_17_x86_64.manylinux2014_x86_64.whl (62.5 MB)\n",
      "Using cached retina_face-0.0.17-py3-none-any.whl (25 kB)\n",
      "Downloading itsdangerous-2.2.0-py3-none-any.whl (16 kB)\n",
      "Downloading filelock-3.16.1-py3-none-any.whl (16 kB)\n",
      "Building wheels for collected packages: fire\n",
      "  Building wheel for fire (setup.py) ... \u001b[?25ldone\n",
      "\u001b[?25h  Created wheel for fire: filename=fire-0.7.0-py3-none-any.whl size=114250 sha256=11bcdd9772d448b87c8fd8d7b139af330820c33e38081a5cb07698c294a726bc\n",
      "  Stored in directory: /home/youssuf/.cache/pip/wheels/e4/c0/6a/3b7584a4fa718f4d38126c56287b00665949885a3aaea27235\n",
      "Successfully built fire\n",
      "Installing collected packages: opencv-python, itsdangerous, gunicorn, fire, filelock, mtcnn, Flask, gdown, flask-cors, retina-face, deepface\n",
      "Successfully installed Flask-3.0.3 deepface-0.0.93 filelock-3.16.1 fire-0.7.0 flask-cors-5.0.0 gdown-5.2.0 gunicorn-23.0.0 itsdangerous-2.2.0 mtcnn-0.1.1 opencv-python-4.10.0.84 retina-face-0.0.17\n"
     ]
    }
   ],
   "source": [
    "!pip3 install deepface\n",
    "\n"
   ]
  },
  {
   "cell_type": "code",
   "execution_count": 7,
   "id": "f187dd47-729b-4a72-bb13-dfa929f9e2e8",
   "metadata": {},
   "outputs": [],
   "source": [
    "import cv2\n",
    "from deepface import DeepFace"
   ]
  },
  {
   "cell_type": "code",
   "execution_count": 9,
   "id": "0c98cd8a-ba06-4cca-97dc-95fcf9ecd890",
   "metadata": {},
   "outputs": [
    {
     "name": "stderr",
     "output_type": "stream",
     "text": [
      "[ WARN:0@489.847] global /croot/opencv-suite_1676452025216/work/modules/imgcodecs/src/loadsave.cpp (239) findDecoder imread_('/home/youssuf/Downloads/img1.jpeg'): can't open/read file: check file path/integrity\n",
      "[ WARN:0@489.848] global /croot/opencv-suite_1676452025216/work/modules/imgcodecs/src/loadsave.cpp (239) findDecoder imread_('/home/youssuf/Downloads/img2.jpeg'): can't open/read file: check file path/integrity\n"
     ]
    }
   ],
   "source": [
    "img_1=cv2.imread(\"/home/youssuf/Downloads/face_recognition/img1.jpeg\")\n",
    "img_2=cv2.imread(\"/home/youssuf/Downloads/face_recognition/img2.jpeg\")"
   ]
  },
  {
   "cell_type": "code",
   "execution_count": null,
   "id": "6ddab9b3-dcbd-4e52-a1c5-575fffe3d7ee",
   "metadata": {},
   "outputs": [],
   "source": [
    "cv2.imshow(\"Image 1\", img_1)\n",
    "cv2.imshow(\"Image 2\", img_2)"
   ]
  },
  {
   "cell_type": "code",
   "execution_count": 5,
   "id": "cd2861a0-6ac8-45c9-b874-bc8c4c96cc7b",
   "metadata": {},
   "outputs": [
    {
     "name": "stderr",
     "output_type": "stream",
     "text": [
      "2024-12-01 17:32:55.309624: I tensorflow/tsl/cuda/cudart_stub.cc:28] Could not find cuda drivers on your machine, GPU will not be used.\n",
      "2024-12-01 17:32:55.821229: I tensorflow/tsl/cuda/cudart_stub.cc:28] Could not find cuda drivers on your machine, GPU will not be used.\n",
      "2024-12-01 17:32:55.823394: I tensorflow/core/platform/cpu_feature_guard.cc:182] This TensorFlow binary is optimized to use available CPU instructions in performance-critical operations.\n",
      "To enable the following instructions: AVX2 FMA, in other operations, rebuild TensorFlow with the appropriate compiler flags.\n",
      "2024-12-01 17:32:56.918002: W tensorflow/compiler/tf2tensorrt/utils/py_utils.cc:38] TF-TRT Warning: Could not find TensorRT\n"
     ]
    },
    {
     "name": "stdout",
     "output_type": "stream",
     "text": [
      "24-12-01 17:32:58 - Directory /home/youssuf/.deepface has been created\n",
      "24-12-01 17:32:58 - Directory /home/youssuf/.deepface/weights has been created\n"
     ]
    },
    {
     "name": "stderr",
     "output_type": "stream",
     "text": [
      "2024-12-01 17:32:58.475150: I tensorflow/compiler/xla/stream_executor/cuda/cuda_gpu_executor.cc:995] successful NUMA node read from SysFS had negative value (-1), but there must be at least one NUMA node, so returning NUMA node zero. See more at https://github.com/torvalds/linux/blob/v6.0/Documentation/ABI/testing/sysfs-bus-pci#L344-L355\n",
      "2024-12-01 17:32:58.476231: W tensorflow/core/common_runtime/gpu/gpu_device.cc:1960] Cannot dlopen some GPU libraries. Please make sure the missing libraries mentioned above are installed properly if you would like to use GPU. Follow the guide at https://www.tensorflow.org/install/gpu for how to download and setup the required libraries for your platform.\n",
      "Skipping registering GPU devices...\n",
      "2024-12-01 17:32:58.808835: W tensorflow/tsl/framework/cpu_allocator_impl.cc:83] Allocation of 411041792 exceeds 10% of free system memory.\n",
      "2024-12-01 17:32:58.983330: W tensorflow/tsl/framework/cpu_allocator_impl.cc:83] Allocation of 411041792 exceeds 10% of free system memory.\n",
      "2024-12-01 17:32:59.098768: W tensorflow/tsl/framework/cpu_allocator_impl.cc:83] Allocation of 411041792 exceeds 10% of free system memory.\n",
      "2024-12-01 17:32:59.270042: W tensorflow/tsl/framework/cpu_allocator_impl.cc:83] Allocation of 67108864 exceeds 10% of free system memory.\n",
      "2024-12-01 17:32:59.296892: W tensorflow/tsl/framework/cpu_allocator_impl.cc:83] Allocation of 67108864 exceeds 10% of free system memory.\n"
     ]
    },
    {
     "name": "stdout",
     "output_type": "stream",
     "text": [
      "24-12-01 17:32:59 - vgg_face_weights.h5 will be downloaded...\n"
     ]
    },
    {
     "name": "stderr",
     "output_type": "stream",
     "text": [
      "Downloading...\n",
      "From: https://github.com/serengil/deepface_models/releases/download/v1.0/vgg_face_weights.h5\n",
      "To: /home/youssuf/.deepface/weights/vgg_face_weights.h5\n",
      "100%|██████████| 580M/580M [04:02<00:00, 2.39MB/s] \n"
     ]
    },
    {
     "ename": "ValueError",
     "evalue": "Exception while processing img1_path",
     "output_type": "error",
     "traceback": [
      "\u001b[0;31m---------------------------------------------------------------------------\u001b[0m",
      "\u001b[0;31mValueError\u001b[0m                                Traceback (most recent call last)",
      "File \u001b[0;32m~/anaconda3/envs/tensorflow_env/lib/python3.8/site-packages/deepface/modules/verification.py:167\u001b[0m, in \u001b[0;36mverify.<locals>.extract_embeddings_and_facial_areas\u001b[0;34m(img_path, index)\u001b[0m\n\u001b[1;32m    166\u001b[0m \u001b[38;5;28;01mtry\u001b[39;00m:\n\u001b[0;32m--> 167\u001b[0m     img_embeddings, img_facial_areas \u001b[38;5;241m=\u001b[39m \u001b[43m__extract_faces_and_embeddings\u001b[49m\u001b[43m(\u001b[49m\n\u001b[1;32m    168\u001b[0m \u001b[43m        \u001b[49m\u001b[43mimg_path\u001b[49m\u001b[38;5;241;43m=\u001b[39;49m\u001b[43mimg_path\u001b[49m\u001b[43m,\u001b[49m\n\u001b[1;32m    169\u001b[0m \u001b[43m        \u001b[49m\u001b[43mmodel_name\u001b[49m\u001b[38;5;241;43m=\u001b[39;49m\u001b[43mmodel_name\u001b[49m\u001b[43m,\u001b[49m\n\u001b[1;32m    170\u001b[0m \u001b[43m        \u001b[49m\u001b[43mdetector_backend\u001b[49m\u001b[38;5;241;43m=\u001b[39;49m\u001b[43mdetector_backend\u001b[49m\u001b[43m,\u001b[49m\n\u001b[1;32m    171\u001b[0m \u001b[43m        \u001b[49m\u001b[43menforce_detection\u001b[49m\u001b[38;5;241;43m=\u001b[39;49m\u001b[43menforce_detection\u001b[49m\u001b[43m,\u001b[49m\n\u001b[1;32m    172\u001b[0m \u001b[43m        \u001b[49m\u001b[43malign\u001b[49m\u001b[38;5;241;43m=\u001b[39;49m\u001b[43malign\u001b[49m\u001b[43m,\u001b[49m\n\u001b[1;32m    173\u001b[0m \u001b[43m        \u001b[49m\u001b[43mexpand_percentage\u001b[49m\u001b[38;5;241;43m=\u001b[39;49m\u001b[43mexpand_percentage\u001b[49m\u001b[43m,\u001b[49m\n\u001b[1;32m    174\u001b[0m \u001b[43m        \u001b[49m\u001b[43mnormalization\u001b[49m\u001b[38;5;241;43m=\u001b[39;49m\u001b[43mnormalization\u001b[49m\u001b[43m,\u001b[49m\n\u001b[1;32m    175\u001b[0m \u001b[43m        \u001b[49m\u001b[43manti_spoofing\u001b[49m\u001b[38;5;241;43m=\u001b[39;49m\u001b[43manti_spoofing\u001b[49m\u001b[43m,\u001b[49m\n\u001b[1;32m    176\u001b[0m \u001b[43m    \u001b[49m\u001b[43m)\u001b[49m\n\u001b[1;32m    177\u001b[0m \u001b[38;5;28;01mexcept\u001b[39;00m \u001b[38;5;167;01mValueError\u001b[39;00m \u001b[38;5;28;01mas\u001b[39;00m err:\n",
      "File \u001b[0;32m~/anaconda3/envs/tensorflow_env/lib/python3.8/site-packages/deepface/modules/verification.py:234\u001b[0m, in \u001b[0;36m__extract_faces_and_embeddings\u001b[0;34m(img_path, model_name, detector_backend, enforce_detection, align, expand_percentage, normalization, anti_spoofing)\u001b[0m\n\u001b[1;32m    232\u001b[0m facial_areas \u001b[38;5;241m=\u001b[39m []\n\u001b[0;32m--> 234\u001b[0m img_objs \u001b[38;5;241m=\u001b[39m \u001b[43mdetection\u001b[49m\u001b[38;5;241;43m.\u001b[39;49m\u001b[43mextract_faces\u001b[49m\u001b[43m(\u001b[49m\n\u001b[1;32m    235\u001b[0m \u001b[43m    \u001b[49m\u001b[43mimg_path\u001b[49m\u001b[38;5;241;43m=\u001b[39;49m\u001b[43mimg_path\u001b[49m\u001b[43m,\u001b[49m\n\u001b[1;32m    236\u001b[0m \u001b[43m    \u001b[49m\u001b[43mdetector_backend\u001b[49m\u001b[38;5;241;43m=\u001b[39;49m\u001b[43mdetector_backend\u001b[49m\u001b[43m,\u001b[49m\n\u001b[1;32m    237\u001b[0m \u001b[43m    \u001b[49m\u001b[43mgrayscale\u001b[49m\u001b[38;5;241;43m=\u001b[39;49m\u001b[38;5;28;43;01mFalse\u001b[39;49;00m\u001b[43m,\u001b[49m\n\u001b[1;32m    238\u001b[0m \u001b[43m    \u001b[49m\u001b[43menforce_detection\u001b[49m\u001b[38;5;241;43m=\u001b[39;49m\u001b[43menforce_detection\u001b[49m\u001b[43m,\u001b[49m\n\u001b[1;32m    239\u001b[0m \u001b[43m    \u001b[49m\u001b[43malign\u001b[49m\u001b[38;5;241;43m=\u001b[39;49m\u001b[43malign\u001b[49m\u001b[43m,\u001b[49m\n\u001b[1;32m    240\u001b[0m \u001b[43m    \u001b[49m\u001b[43mexpand_percentage\u001b[49m\u001b[38;5;241;43m=\u001b[39;49m\u001b[43mexpand_percentage\u001b[49m\u001b[43m,\u001b[49m\n\u001b[1;32m    241\u001b[0m \u001b[43m    \u001b[49m\u001b[43manti_spoofing\u001b[49m\u001b[38;5;241;43m=\u001b[39;49m\u001b[43manti_spoofing\u001b[49m\u001b[43m,\u001b[49m\n\u001b[1;32m    242\u001b[0m \u001b[43m\u001b[49m\u001b[43m)\u001b[49m\n\u001b[1;32m    244\u001b[0m \u001b[38;5;66;03m# find embeddings for each face\u001b[39;00m\n",
      "File \u001b[0;32m~/anaconda3/envs/tensorflow_env/lib/python3.8/site-packages/deepface/modules/detection.py:83\u001b[0m, in \u001b[0;36mextract_faces\u001b[0;34m(img_path, detector_backend, enforce_detection, align, expand_percentage, grayscale, color_face, normalize_face, anti_spoofing)\u001b[0m\n\u001b[1;32m     82\u001b[0m \u001b[38;5;66;03m# img might be path, base64 or numpy array. Convert it to numpy whatever it is.\u001b[39;00m\n\u001b[0;32m---> 83\u001b[0m img, img_name \u001b[38;5;241m=\u001b[39m \u001b[43mimage_utils\u001b[49m\u001b[38;5;241;43m.\u001b[39;49m\u001b[43mload_image\u001b[49m\u001b[43m(\u001b[49m\u001b[43mimg_path\u001b[49m\u001b[43m)\u001b[49m\n\u001b[1;32m     85\u001b[0m \u001b[38;5;28;01mif\u001b[39;00m img \u001b[38;5;129;01mis\u001b[39;00m \u001b[38;5;28;01mNone\u001b[39;00m:\n",
      "File \u001b[0;32m~/anaconda3/envs/tensorflow_env/lib/python3.8/site-packages/deepface/commons/image_utils.py:93\u001b[0m, in \u001b[0;36mload_image\u001b[0;34m(img)\u001b[0m\n\u001b[1;32m     92\u001b[0m \u001b[38;5;28;01mif\u001b[39;00m \u001b[38;5;129;01mnot\u001b[39;00m os\u001b[38;5;241m.\u001b[39mpath\u001b[38;5;241m.\u001b[39misfile(img):\n\u001b[0;32m---> 93\u001b[0m     \u001b[38;5;28;01mraise\u001b[39;00m \u001b[38;5;167;01mValueError\u001b[39;00m(\u001b[38;5;124mf\u001b[39m\u001b[38;5;124m\"\u001b[39m\u001b[38;5;124mConfirm that \u001b[39m\u001b[38;5;132;01m{\u001b[39;00mimg\u001b[38;5;132;01m}\u001b[39;00m\u001b[38;5;124m exists\u001b[39m\u001b[38;5;124m\"\u001b[39m)\n\u001b[1;32m     95\u001b[0m \u001b[38;5;66;03m# image must be a file on the system then\u001b[39;00m\n\u001b[1;32m     96\u001b[0m \n\u001b[1;32m     97\u001b[0m \u001b[38;5;66;03m# image name must have english characters\u001b[39;00m\n",
      "\u001b[0;31mValueError\u001b[0m: Confirm that /home/youssuf/Downloads/img1.jpeg exists",
      "\nThe above exception was the direct cause of the following exception:\n",
      "\u001b[0;31mValueError\u001b[0m                                Traceback (most recent call last)",
      "Cell \u001b[0;32mIn[5], line 3\u001b[0m\n\u001b[1;32m      1\u001b[0m \u001b[38;5;28;01mfrom\u001b[39;00m \u001b[38;5;21;01mdeepface\u001b[39;00m \u001b[38;5;28;01mimport\u001b[39;00m DeepFace\n\u001b[0;32m----> 3\u001b[0m result \u001b[38;5;241m=\u001b[39m \u001b[43mDeepFace\u001b[49m\u001b[38;5;241;43m.\u001b[39;49m\u001b[43mverify\u001b[49m\u001b[43m(\u001b[49m\u001b[38;5;124;43m\"\u001b[39;49m\u001b[38;5;124;43m/home/youssuf/Downloads/img1.jpeg\u001b[39;49m\u001b[38;5;124;43m\"\u001b[39;49m\u001b[43m,\u001b[49m\u001b[43m \u001b[49m\u001b[38;5;124;43m\"\u001b[39;49m\u001b[38;5;124;43m/home/youssuf/Downloads/img2.jpeg\u001b[39;49m\u001b[38;5;124;43m\"\u001b[39;49m\u001b[43m)\u001b[49m\n\u001b[1;32m      4\u001b[0m \u001b[38;5;28mprint\u001b[39m(result)\n",
      "File \u001b[0;32m~/anaconda3/envs/tensorflow_env/lib/python3.8/site-packages/deepface/DeepFace.py:150\u001b[0m, in \u001b[0;36mverify\u001b[0;34m(img1_path, img2_path, model_name, detector_backend, distance_metric, enforce_detection, align, expand_percentage, normalization, silent, threshold, anti_spoofing)\u001b[0m\n\u001b[1;32m     70\u001b[0m \u001b[38;5;28;01mdef\u001b[39;00m \u001b[38;5;21mverify\u001b[39m(\n\u001b[1;32m     71\u001b[0m     img1_path: Union[\u001b[38;5;28mstr\u001b[39m, np\u001b[38;5;241m.\u001b[39mndarray, List[\u001b[38;5;28mfloat\u001b[39m]],\n\u001b[1;32m     72\u001b[0m     img2_path: Union[\u001b[38;5;28mstr\u001b[39m, np\u001b[38;5;241m.\u001b[39mndarray, List[\u001b[38;5;28mfloat\u001b[39m]],\n\u001b[0;32m   (...)\u001b[0m\n\u001b[1;32m     82\u001b[0m     anti_spoofing: \u001b[38;5;28mbool\u001b[39m \u001b[38;5;241m=\u001b[39m \u001b[38;5;28;01mFalse\u001b[39;00m,\n\u001b[1;32m     83\u001b[0m ) \u001b[38;5;241m-\u001b[39m\u001b[38;5;241m>\u001b[39m Dict[\u001b[38;5;28mstr\u001b[39m, Any]:\n\u001b[1;32m     84\u001b[0m \u001b[38;5;250m    \u001b[39m\u001b[38;5;124;03m\"\"\"\u001b[39;00m\n\u001b[1;32m     85\u001b[0m \u001b[38;5;124;03m    Verify if an image pair represents the same person or different persons.\u001b[39;00m\n\u001b[1;32m     86\u001b[0m \u001b[38;5;124;03m    Args:\u001b[39;00m\n\u001b[0;32m   (...)\u001b[0m\n\u001b[1;32m    147\u001b[0m \u001b[38;5;124;03m        - 'time' (float): Time taken for the verification process in seconds.\u001b[39;00m\n\u001b[1;32m    148\u001b[0m \u001b[38;5;124;03m    \"\"\"\u001b[39;00m\n\u001b[0;32m--> 150\u001b[0m     \u001b[38;5;28;01mreturn\u001b[39;00m \u001b[43mverification\u001b[49m\u001b[38;5;241;43m.\u001b[39;49m\u001b[43mverify\u001b[49m\u001b[43m(\u001b[49m\n\u001b[1;32m    151\u001b[0m \u001b[43m        \u001b[49m\u001b[43mimg1_path\u001b[49m\u001b[38;5;241;43m=\u001b[39;49m\u001b[43mimg1_path\u001b[49m\u001b[43m,\u001b[49m\n\u001b[1;32m    152\u001b[0m \u001b[43m        \u001b[49m\u001b[43mimg2_path\u001b[49m\u001b[38;5;241;43m=\u001b[39;49m\u001b[43mimg2_path\u001b[49m\u001b[43m,\u001b[49m\n\u001b[1;32m    153\u001b[0m \u001b[43m        \u001b[49m\u001b[43mmodel_name\u001b[49m\u001b[38;5;241;43m=\u001b[39;49m\u001b[43mmodel_name\u001b[49m\u001b[43m,\u001b[49m\n\u001b[1;32m    154\u001b[0m \u001b[43m        \u001b[49m\u001b[43mdetector_backend\u001b[49m\u001b[38;5;241;43m=\u001b[39;49m\u001b[43mdetector_backend\u001b[49m\u001b[43m,\u001b[49m\n\u001b[1;32m    155\u001b[0m \u001b[43m        \u001b[49m\u001b[43mdistance_metric\u001b[49m\u001b[38;5;241;43m=\u001b[39;49m\u001b[43mdistance_metric\u001b[49m\u001b[43m,\u001b[49m\n\u001b[1;32m    156\u001b[0m \u001b[43m        \u001b[49m\u001b[43menforce_detection\u001b[49m\u001b[38;5;241;43m=\u001b[39;49m\u001b[43menforce_detection\u001b[49m\u001b[43m,\u001b[49m\n\u001b[1;32m    157\u001b[0m \u001b[43m        \u001b[49m\u001b[43malign\u001b[49m\u001b[38;5;241;43m=\u001b[39;49m\u001b[43malign\u001b[49m\u001b[43m,\u001b[49m\n\u001b[1;32m    158\u001b[0m \u001b[43m        \u001b[49m\u001b[43mexpand_percentage\u001b[49m\u001b[38;5;241;43m=\u001b[39;49m\u001b[43mexpand_percentage\u001b[49m\u001b[43m,\u001b[49m\n\u001b[1;32m    159\u001b[0m \u001b[43m        \u001b[49m\u001b[43mnormalization\u001b[49m\u001b[38;5;241;43m=\u001b[39;49m\u001b[43mnormalization\u001b[49m\u001b[43m,\u001b[49m\n\u001b[1;32m    160\u001b[0m \u001b[43m        \u001b[49m\u001b[43msilent\u001b[49m\u001b[38;5;241;43m=\u001b[39;49m\u001b[43msilent\u001b[49m\u001b[43m,\u001b[49m\n\u001b[1;32m    161\u001b[0m \u001b[43m        \u001b[49m\u001b[43mthreshold\u001b[49m\u001b[38;5;241;43m=\u001b[39;49m\u001b[43mthreshold\u001b[49m\u001b[43m,\u001b[49m\n\u001b[1;32m    162\u001b[0m \u001b[43m        \u001b[49m\u001b[43manti_spoofing\u001b[49m\u001b[38;5;241;43m=\u001b[39;49m\u001b[43manti_spoofing\u001b[49m\u001b[43m,\u001b[49m\n\u001b[1;32m    163\u001b[0m \u001b[43m    \u001b[49m\u001b[43m)\u001b[49m\n",
      "File \u001b[0;32m~/anaconda3/envs/tensorflow_env/lib/python3.8/site-packages/deepface/modules/verification.py:181\u001b[0m, in \u001b[0;36mverify\u001b[0;34m(img1_path, img2_path, model_name, detector_backend, distance_metric, enforce_detection, align, expand_percentage, normalization, silent, threshold, anti_spoofing)\u001b[0m\n\u001b[1;32m    178\u001b[0m             \u001b[38;5;28;01mraise\u001b[39;00m \u001b[38;5;167;01mValueError\u001b[39;00m(\u001b[38;5;124mf\u001b[39m\u001b[38;5;124m\"\u001b[39m\u001b[38;5;124mException while processing img\u001b[39m\u001b[38;5;132;01m{\u001b[39;00mindex\u001b[38;5;132;01m}\u001b[39;00m\u001b[38;5;124m_path\u001b[39m\u001b[38;5;124m\"\u001b[39m) \u001b[38;5;28;01mfrom\u001b[39;00m \u001b[38;5;21;01merr\u001b[39;00m\n\u001b[1;32m    179\u001b[0m     \u001b[38;5;28;01mreturn\u001b[39;00m img_embeddings, img_facial_areas\n\u001b[0;32m--> 181\u001b[0m img1_embeddings, img1_facial_areas \u001b[38;5;241m=\u001b[39m \u001b[43mextract_embeddings_and_facial_areas\u001b[49m\u001b[43m(\u001b[49m\u001b[43mimg1_path\u001b[49m\u001b[43m,\u001b[49m\u001b[43m \u001b[49m\u001b[38;5;241;43m1\u001b[39;49m\u001b[43m)\u001b[49m\n\u001b[1;32m    182\u001b[0m img2_embeddings, img2_facial_areas \u001b[38;5;241m=\u001b[39m extract_embeddings_and_facial_areas(img2_path, \u001b[38;5;241m2\u001b[39m)\n\u001b[1;32m    184\u001b[0m min_distance, min_idx, min_idy \u001b[38;5;241m=\u001b[39m \u001b[38;5;28mfloat\u001b[39m(\u001b[38;5;124m\"\u001b[39m\u001b[38;5;124minf\u001b[39m\u001b[38;5;124m\"\u001b[39m), \u001b[38;5;28;01mNone\u001b[39;00m, \u001b[38;5;28;01mNone\u001b[39;00m\n",
      "File \u001b[0;32m~/anaconda3/envs/tensorflow_env/lib/python3.8/site-packages/deepface/modules/verification.py:178\u001b[0m, in \u001b[0;36mverify.<locals>.extract_embeddings_and_facial_areas\u001b[0;34m(img_path, index)\u001b[0m\n\u001b[1;32m    167\u001b[0m         img_embeddings, img_facial_areas \u001b[38;5;241m=\u001b[39m __extract_faces_and_embeddings(\n\u001b[1;32m    168\u001b[0m             img_path\u001b[38;5;241m=\u001b[39mimg_path,\n\u001b[1;32m    169\u001b[0m             model_name\u001b[38;5;241m=\u001b[39mmodel_name,\n\u001b[0;32m   (...)\u001b[0m\n\u001b[1;32m    175\u001b[0m             anti_spoofing\u001b[38;5;241m=\u001b[39manti_spoofing,\n\u001b[1;32m    176\u001b[0m         )\n\u001b[1;32m    177\u001b[0m     \u001b[38;5;28;01mexcept\u001b[39;00m \u001b[38;5;167;01mValueError\u001b[39;00m \u001b[38;5;28;01mas\u001b[39;00m err:\n\u001b[0;32m--> 178\u001b[0m         \u001b[38;5;28;01mraise\u001b[39;00m \u001b[38;5;167;01mValueError\u001b[39;00m(\u001b[38;5;124mf\u001b[39m\u001b[38;5;124m\"\u001b[39m\u001b[38;5;124mException while processing img\u001b[39m\u001b[38;5;132;01m{\u001b[39;00mindex\u001b[38;5;132;01m}\u001b[39;00m\u001b[38;5;124m_path\u001b[39m\u001b[38;5;124m\"\u001b[39m) \u001b[38;5;28;01mfrom\u001b[39;00m \u001b[38;5;21;01merr\u001b[39;00m\n\u001b[1;32m    179\u001b[0m \u001b[38;5;28;01mreturn\u001b[39;00m img_embeddings, img_facial_areas\n",
      "\u001b[0;31mValueError\u001b[0m: Exception while processing img1_path"
     ]
    }
   ],
   "source": [
    "\n",
    "\n",
    "result = DeepFace.verify(\"/home/youssuf/Downloads/img1.jpeg\", \"/home/youssuf/Downloads/img2.jpeg\")\n",
    "print(result)"
   ]
  },
  {
   "cell_type": "code",
   "execution_count": null,
   "id": "5d55ccfb-59bb-42c9-a33d-973dd3a1c8f2",
   "metadata": {},
   "outputs": [],
   "source": []
  }
 ],
 "metadata": {
  "kernelspec": {
   "display_name": "Python 3 (ipykernel)",
   "language": "python",
   "name": "python3"
  },
  "language_info": {
   "codemirror_mode": {
    "name": "ipython",
    "version": 3
   },
   "file_extension": ".py",
   "mimetype": "text/x-python",
   "name": "python",
   "nbconvert_exporter": "python",
   "pygments_lexer": "ipython3",
   "version": "3.8.18"
  }
 },
 "nbformat": 4,
 "nbformat_minor": 5
}
